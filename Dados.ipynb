{
 "cells": [
  {
   "cell_type": "code",
   "execution_count": null,
   "id": "1c1f9180",
   "metadata": {},
   "outputs": [],
   "source": [
    "url = (\n",
    "    f\"https://olinda.bcb.gov.br/olinda/servico/PTAX/versao/v1/odata/\"\n",
    "    f\"CotacaoMoedaDia(moeda=@moeda,dataCotacao=@dataCotacao)?@moeda='USD'\"\n",
    "    f\"&@dataCotacao='05-01-2025'&$top=100&$format=json&$select=paridadeCompra,\"\n",
    "    f\"paridadeVenda,cotacaoCompra,cotacaoVenda,dataHoraCotacao,tipoBoletim\")"
   ]
  }
 ],
 "metadata": {
  "language_info": {
   "name": "python"
  }
 },
 "nbformat": 4,
 "nbformat_minor": 5
}
